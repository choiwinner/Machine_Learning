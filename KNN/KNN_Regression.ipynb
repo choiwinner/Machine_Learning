{
 "cells": [
  {
   "cell_type": "markdown",
   "id": "51b29e9a",
   "metadata": {},
   "source": [
    "# 참고 자료\n",
    "### https://www.youtube.com/watch?v=FaEcLpSZNtg&list=PLVsNizTWUw7E2RxZ4aspcR9vNamXccmFE&index=7"
   ]
  },
  {
   "cell_type": "markdown",
   "id": "251606ba",
   "metadata": {},
   "source": [
    "![alt text](<화면 캡처 2025-06-21 171542.jpg>)"
   ]
  },
  {
   "cell_type": "markdown",
   "id": "77652343",
   "metadata": {},
   "source": [
    "![alt text](<화면 캡처 2025-06-21 171854.jpg>)"
   ]
  },
  {
   "cell_type": "code",
   "execution_count": null,
   "id": "b1c2605d",
   "metadata": {},
   "outputs": [],
   "source": []
  },
  {
   "cell_type": "code",
   "execution_count": null,
   "id": "071ad186",
   "metadata": {},
   "outputs": [],
   "source": []
  }
 ],
 "metadata": {
  "kernelspec": {
   "display_name": "py31012",
   "language": "python",
   "name": "python3"
  },
  "language_info": {
   "codemirror_mode": {
    "name": "ipython",
    "version": 3
   },
   "file_extension": ".py",
   "mimetype": "text/x-python",
   "name": "python",
   "nbconvert_exporter": "python",
   "pygments_lexer": "ipython3",
   "version": "3.10.16"
  }
 },
 "nbformat": 4,
 "nbformat_minor": 5
}
